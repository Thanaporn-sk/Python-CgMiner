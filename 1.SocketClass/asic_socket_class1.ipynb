{
 "cells": [
  {
   "cell_type": "code",
   "execution_count": null,
   "metadata": {},
   "outputs": [],
   "source": [
    "# Python version: 3.8\n",
    "# Asic : Antminer L3+, S19j Pro"
   ]
  },
  {
   "cell_type": "code",
   "execution_count": null,
   "metadata": {},
   "outputs": [],
   "source": [
    "import socket\n",
    "import json\n",
    "from datetime import datetime, timedelta\n",
    "import requests\n",
    "from requests.auth import HTTPDigestAuth\n",
    "from bs4 import BeautifulSoup"
   ]
  },
  {
   "cell_type": "code",
   "execution_count": null,
   "metadata": {},
   "outputs": [],
   "source": [
    "class asicMiner:\n",
    "    description = {}\n",
    "    #description_header =  ['ip','when','item_type','Elapsed','hashrate_5s', 'hashrate_av', 'miner_count', 'fan_num', 'Found Blocks','Pool1','User']\n",
    "    #description_text = []\n",
    "    stats = {}\n",
    "    summary = {}\n",
    "    pools = {}\n",
    "    edevs = {}\n",
    "    systeminfo = {}\n",
    "    connected = False\n",
    "    canConnected = False\n",
    "    user=''\n",
    "    password=''\n",
    "    \n",
    "    def __init__(self,ip):\n",
    "        self.ip = ip\n",
    "        #print('AsicMiner Create! ' + ip)\n",
    "    \n",
    "    def set_credential(self,user,password):\n",
    "        self.user = user\n",
    "        self.password = password\n",
    "        \n",
    "    def executeSocketCommand(self,command_):\n",
    "        sock = socket.socket(socket.AF_INET, socket.SOCK_STREAM)\n",
    "        sock.settimeout(1)\n",
    "        try:\n",
    "            sock.connect((self.ip, 4028))\n",
    "        except Exception as e:\n",
    "            print (self.ip, e)\n",
    "            \n",
    "            return False\n",
    "\n",
    "        data_={'command': command_}   # summary stats pools\n",
    "        sock.send(bytes(json.dumps(data_), 'UTF-8'))\n",
    "\n",
    "        response = ''\n",
    "        while 1:\n",
    "            buf = sock.recv(4096).decode('UTF-8')\n",
    "            if buf:\n",
    "                response += buf\n",
    "            else:\n",
    "                break\n",
    "\n",
    "        sock.shutdown(socket.SHUT_RDWR)\n",
    "        sock.close()\n",
    "        result = json.loads(response[:-1].replace('}{', '},{'))\n",
    "        output = json.dumps(result, indent=2)\n",
    "        self.connected = True\n",
    "        return result    \n",
    "\n",
    "    def generateDescription(self):\n",
    "        \n",
    "        ####### STATS ########\n",
    "        stats_data=self.stats\n",
    "        data = {'ip': self.ip}\n",
    "        status = stats_data[\"STATUS\"][0]\n",
    "        data['When'] = status['When']\n",
    "\n",
    "        stats = stats_data[\"STATS\"][0]\n",
    "        data['item_type'] = stats['Type']\n",
    "\n",
    "\n",
    "        stats = stats_data[\"STATS\"][1]\n",
    "\n",
    "        data['Elapsed'] = stats['Elapsed']\n",
    "        data['hashrate_5s'] = stats['GHS 5s']\n",
    "        data['hashrate_av'] = stats['GHS av']\n",
    "        data['miner_count'] = stats['miner_count']\n",
    "        data['fan_num'] = stats['fan_num']\n",
    "\n",
    "        fan_num = 0\n",
    "        for i in range(8):\n",
    "            index = i+1\n",
    "            key = 'fan'+str(index)\n",
    "            if key in stats:\n",
    "                v = stats['fan'+str(index)]\n",
    "                if v:\n",
    "                    fan_num += 1\n",
    "                    data['fan'+str(fan_num)] = v\n",
    "\n",
    "        ####### SUMMARY ########\n",
    "        summary_data = self.summary[\"SUMMARY\"][0]\n",
    "        data['Found Blocks'] = summary_data['Found Blocks']\n",
    "        \n",
    "        ###### POOLS #######\n",
    "        pool1_data = self.pools['POOLS'][0]\n",
    "        data['Pool1'] = pool1_data['Stratum URL']\n",
    "        data['User'] = pool1_data['User']\n",
    "        self.description = data\n",
    "        \n",
    "    def description_header(self):\n",
    "        #header_ =[]\n",
    "        header_ = ['ip','when','item_type','Elapsed','hashrate - av', 'miner - fan', 'Found Blocks','Pool1','User']\n",
    "        return header_\n",
    "    \n",
    "    def description_text(self):\n",
    "        #text_ =[]\n",
    "        d = datetime.fromtimestamp(self.description['When'])\n",
    "        e =timedelta(seconds = self.description['Elapsed'])\n",
    "        text_= [self.description['ip'], str(d), self.description['item_type'],str(e),\\\n",
    "                        str(self.description['hashrate_5s']) + ' - ' + str(self.description['hashrate_av'])  , str(self.description['miner_count']) + ' - ' + str(self.description['fan_num'])  ,\\\n",
    "                        self.description['Found Blocks'],self.description['Pool1'],self.description['User']]\n",
    "        #self.description_text = text_\n",
    "        return text_\n",
    "    \n",
    "    def updateStatus(self):\n",
    "        \n",
    "        self.stats   = self.executeSocketCommand('stats')\n",
    "        self.summary = self.executeSocketCommand('summary')\n",
    "        self.pools   = self.executeSocketCommand('pools')\n",
    "        if(self.connected == True):\n",
    "            self.generateDescription()\n",
    "            self.description_text()\n",
    "        #print('!!!! excute success  !!!! ')\n",
    "        \n",
    "    # For test connection Alive or not\n",
    "    def testConnect(self):\n",
    "        self.summary = self.executeSocketCommand('summary')\n",
    "        #if(self.connected == True):\n",
    "        #   self.generateDescription()\n",
    "    \n",
    "    def reboot(self):\n",
    "        try:\n",
    "            res= requests.get('http://' + self.ip + '/cgi-bin/reboot.cgi', auth=HTTPDigestAuth(self.user, self.password))\n",
    "            #print(res)\n",
    "        except:        \n",
    "            print(\"[{0}]: Could not reboot\".format(ip))\n",
    "        return 0 \n",
    "    \n",
    "    def get_system_info(self):\n",
    "        try:\n",
    "            with requests.get('http://'+ self.ip +'/cgi-bin/get_system_info.cgi', auth=HTTPDigestAuth(self.user, self.password)) as r:\n",
    "                self.systeminfo = r.content\n",
    "\n",
    "        except:\n",
    "            print(\"[{0}]: Could not initialize\".format(self.ip))\n",
    "    \n",
    "    def get_manual_freqs(self):\n",
    "        try:\n",
    "            with requests.get('http://'+ self.ip +'/cgi-bin/get_freq_logs.cgi', auth=HTTPDigestAuth(self.user, self.password)) as r:\n",
    "                print(r.content)\n",
    "                return r.content\n",
    "\n",
    "        except:\n",
    "            print(\"[{0}]: Could not initialize\".format(self.ip))\n",
    "'''\n",
    "\n",
    "getAjaxData(\"/cgi-bin/miner_summary.cgi\",setSummary);//summary table\n",
    "getAjaxData(\"/cgi-bin/miner_pools.cgi\",setPools);//pools table\n",
    "getAjaxData(\"/cgi-bin/miner_stats.cgi\",setAntMiner);//antminer table\n",
    "        \n",
    "        /cgi-bin/minerStatus.cgi  # return html\n",
    "\n",
    "Another Example will try later:\n",
    "https://github.com/romdr/cgminer-monitor/blob/master/cgminer-monitor.py\n",
    "     \n",
    "     '/cgi-bin/get_manual_freqs.cgi'\n",
    "     '/cgi-bin/get_freq_logs.cgi'\n",
    "'''\n",
    "\n"
   ]
  },
  {
   "cell_type": "code",
   "execution_count": null,
   "metadata": {},
   "outputs": [],
   "source": [
    "def test():\n",
    "    miner = asicMiner('192.168.xx.xxx')\n",
    "    miner.updateStatus()\n",
    "    '''\n",
    "    print('status..................................................')\n",
    "    print(miner.stats)\n",
    "    print('summary..................................................')\n",
    "    print(miner.summary)\n",
    "    print('pools..................................................')\n",
    "    print(miner.pools)\n",
    "    '''\n",
    "    print('description..................................................')\n",
    "    print(miner.description)\n",
    "    print(miner.description_header)\n",
    "    print(miner.description_text)\n",
    "    return miner"
   ]
  },
  {
   "cell_type": "code",
   "execution_count": null,
   "metadata": {},
   "outputs": [],
   "source": [
    "m=test()"
   ]
  },
  {
   "cell_type": "code",
   "execution_count": null,
   "metadata": {},
   "outputs": [],
   "source": [
    "m.stats"
   ]
  },
  {
   "cell_type": "code",
   "execution_count": null,
   "metadata": {},
   "outputs": [],
   "source": [
    "#m.reboot()"
   ]
  },
  {
   "cell_type": "code",
   "execution_count": null,
   "metadata": {},
   "outputs": [],
   "source": [
    "m.set_credential('user','password')"
   ]
  },
  {
   "cell_type": "code",
   "execution_count": null,
   "metadata": {},
   "outputs": [],
   "source": [
    "m.get_system_info()"
   ]
  },
  {
   "cell_type": "code",
   "execution_count": null,
   "metadata": {},
   "outputs": [],
   "source": [
    "m.systeminfo"
   ]
  },
  {
   "cell_type": "code",
   "execution_count": null,
   "metadata": {},
   "outputs": [],
   "source": [
    "mf = m.get_manual_freqs()"
   ]
  },
  {
   "cell_type": "code",
   "execution_count": null,
   "metadata": {},
   "outputs": [],
   "source": [
    "type(mf)"
   ]
  },
  {
   "cell_type": "code",
   "execution_count": null,
   "metadata": {},
   "outputs": [],
   "source": [
    "print(len(str(mf).split('\\\\n')))\n"
   ]
  },
  {
   "cell_type": "code",
   "execution_count": null,
   "metadata": {},
   "outputs": [],
   "source": [
    "jm=json.dumps(mf.decode()).replace('\"','')\n"
   ]
  },
  {
   "cell_type": "code",
   "execution_count": null,
   "metadata": {},
   "outputs": [],
   "source": [
    "for l in jm.split('\\\\n'):\n",
    "    print (l)\n"
   ]
  },
  {
   "cell_type": "code",
   "execution_count": null,
   "metadata": {},
   "outputs": [],
   "source": []
  },
  {
   "cell_type": "code",
   "execution_count": null,
   "metadata": {},
   "outputs": [],
   "source": [
    "ip__ = '192.168.1.xxx'\n",
    "mm = requests.get('http://'+ ip__ +'/cgi-bin/get_system_info.cgi', auth=HTTPDigestAuth('user', 'password'))"
   ]
  },
  {
   "cell_type": "code",
   "execution_count": null,
   "metadata": {},
   "outputs": [],
   "source": [
    "mm.content"
   ]
  },
  {
   "cell_type": "code",
   "execution_count": null,
   "metadata": {},
   "outputs": [],
   "source": []
  },
  {
   "cell_type": "code",
   "execution_count": null,
   "metadata": {},
   "outputs": [],
   "source": [
    "#print(m.pools['POOLS'][0])"
   ]
  },
  {
   "cell_type": "code",
   "execution_count": null,
   "metadata": {},
   "outputs": [],
   "source": [
    "# Friendly printing \n",
    "#stats = json.dumps(miner.summary, indent=2)\n",
    "#print(stats)\n"
   ]
  }
 ],
 "metadata": {
  "kernelspec": {
   "display_name": "Python 3",
   "language": "python",
   "name": "python3"
  },
  "language_info": {
   "codemirror_mode": {
    "name": "ipython",
    "version": 3
   },
   "file_extension": ".py",
   "mimetype": "text/x-python",
   "name": "python",
   "nbconvert_exporter": "python",
   "pygments_lexer": "ipython3",
   "version": "3.6.5"
  }
 },
 "nbformat": 4,
 "nbformat_minor": 4
}
