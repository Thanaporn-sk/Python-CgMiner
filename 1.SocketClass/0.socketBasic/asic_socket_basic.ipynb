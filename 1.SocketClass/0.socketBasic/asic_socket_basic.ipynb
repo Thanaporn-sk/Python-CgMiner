{
 "cells": [
  {
   "cell_type": "code",
   "execution_count": null,
   "metadata": {},
   "outputs": [],
   "source": [
    "# Python version: 3.8\n",
    "# Asic : Antminer L3+, S19j Pro"
   ]
  },
  {
   "cell_type": "code",
   "execution_count": null,
   "metadata": {},
   "outputs": [],
   "source": [
    "import socket\n",
    "import json"
   ]
  },
  {
   "cell_type": "code",
   "execution_count": null,
   "metadata": {},
   "outputs": [],
   "source": [
    "def writeToFile(fileName_,data_):\n",
    "    file = open(fileName_, 'w')\n",
    "    file.write(data_)\n",
    "    file.close()"
   ]
  },
  {
   "cell_type": "code",
   "execution_count": null,
   "metadata": {},
   "outputs": [],
   "source": [
    "def executeSocketCommand(ip_,command_):\n",
    "    sock = socket.socket(socket.AF_INET, socket.SOCK_STREAM)\n",
    "    sock.settimeout(1)\n",
    "    try:\n",
    "        sock.connect((ip_, 4028))\n",
    "    except Exception as e:\n",
    "        print (ip_, e)\n",
    "        return False\n",
    "    \n",
    "    data_={'command': command_}   # summary stats pools\n",
    "    sock.send(bytes(json.dumps(data_), 'UTF-8'))\n",
    "    \n",
    "    response = ''\n",
    "    while 1:\n",
    "        buf = sock.recv(4096).decode('UTF-8')\n",
    "        if buf:\n",
    "            response += buf\n",
    "        else:\n",
    "            break\n",
    "\n",
    "    sock.shutdown(socket.SHUT_RDWR)\n",
    "    sock.close()\n",
    "    result = json.loads(response[:-1].replace('}{', '},{'))    \n",
    "    output = json.dumps(result, indent=2)\n",
    "   \n",
    "    return output"
   ]
  },
  {
   "cell_type": "code",
   "execution_count": null,
   "metadata": {},
   "outputs": [],
   "source": [
    "ip_='192.168.xx.xx'\n",
    "command_='stats'  # summary stats pools\n",
    "data_=executeSocketCommand(ip_,command_)\n",
    "print(data_)\n",
    "fileName = './'+ip_+'_' + command_+'.txt'\n",
    "writeToFile(fileName ,data_)"
   ]
  },
  {
   "cell_type": "code",
   "execution_count": null,
   "metadata": {},
   "outputs": [],
   "source": []
  }
 ],
 "metadata": {
  "kernelspec": {
   "display_name": "Python 3",
   "language": "python",
   "name": "python3"
  },
  "language_info": {
   "codemirror_mode": {
    "name": "ipython",
    "version": 3
   },
   "file_extension": ".py",
   "mimetype": "text/x-python",
   "name": "python",
   "nbconvert_exporter": "python",
   "pygments_lexer": "ipython3",
   "version": "3.6.5"
  }
 },
 "nbformat": 4,
 "nbformat_minor": 4
}
